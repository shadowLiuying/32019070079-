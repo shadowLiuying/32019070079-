{
 "cells": [
  {
   "cell_type": "code",
   "execution_count": null,
   "metadata": {},
   "outputs": [],
   "source": [
    "import pandas as pd\n",
    "import matplotlib.pyplot as plt\n",
    "import numpy as np\n",
    "\n",
    "data = pd.read_csv('Lenovo/S(1).csv')\n",
    "x = data.iloc[:, [0,1]].values\n",
    "y = data.iloc[:, 2]\n",
    "\n",
    "from sklearn.model_selection import train_test_split\n",
    "x_train, x_test, y_trian, y_test = train_test_split(x, y, test_size=0.2, random_state=0)\n",
    "\n",
    "from sklearn.preprocessing import StandardScaler\n",
    "sc = StandardScaler()\n",
    "x_train = sc.fit_transform(x_train.astype(float))\n",
    "x_test = sc.transform(x_test.astype(float))\n",
    "\n",
    "from sklearn.linear_model import LogisticRegression\n",
    "logistics = LogisticRegression()\n",
    "logistics.fit(x_train, y_trian)\n",
    "\n",
    "\n",
    "#from sklearn.metrics import confusion_matrix\n",
    "#cm = confusion_matrix(y_test, predict)\n",
    "#print(cm)\n",
    "\n",
    "from matplotlib.colors import ListedColormap\n",
    "x_set, y_set = x_train, y_trian\n",
    "x1, x2 = np.meshgrid(np.arange(start = x_set[:, 0].min() - 1, stop=x_set[:, 0].max() + 1, step = 0.01),\n",
    "                     np.arange(start = x_set[:, 1].min() - 1, stop=x_set[:, 1].max() + 1, step = 0.01))\n",
    "\n",
    "plt.contour(x1, x2, logistics.predict(np.array([x1.ravel(), x2.ravel()]).T).reshape(x1.shape), alpha = 0.75, camp = ListedColormap(('red', 'blue')))\n",
    "\n",
    "plt.xlim(x1.min(), x1.max())\n",
    "plt.ylim(x2.min(), x2.max())\n",
    "for i, j in enumerate(np.unique(y_set)):\n",
    "#x_set[y_set == j, 0],j=0或1，即表示x_set第一列中所有数值=j的行\n",
    "    plt.scatter(x_set[y_set == j, 0], x_set[y_set == j, 1], \n",
    "                c = ListedColormap(('red', 'blue'))(i), label=j)\n",
    "plt.legend()\n",
    "plt.show()"
   ]
  }
 ],
 "metadata": {
  "kernelspec": {
   "display_name": "Python 3",
   "language": "python",
   "name": "python3"
  },
  "language_info": {
   "codemirror_mode": {
    "name": "ipython",
    "version": 3
   },
   "file_extension": ".py",
   "mimetype": "text/x-python",
   "name": "python",
   "nbconvert_exporter": "python",
   "pygments_lexer": "ipython3",
   "version": "3.7.6"
  }
 },
 "nbformat": 4,
 "nbformat_minor": 4
}
